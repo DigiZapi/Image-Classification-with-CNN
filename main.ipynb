{
 "cells": [
  {
   "cell_type": "markdown",
   "id": "8f269ad4",
   "metadata": {},
   "source": [
    "# Image Classification with CNN\n",
    "The idea of this model is to class the animals into their own species based in a few features  "
   ]
  },
  {
   "cell_type": "markdown",
   "id": "5f7d26c8",
   "metadata": {},
   "source": [
    "### Load Dataset and Import First Libraries"
   ]
  },
  {
   "cell_type": "code",
   "execution_count": null,
   "id": "c9fbfc24",
   "metadata": {},
   "outputs": [],
   "source": [
    "import numpy as np\n",
    "import matplotlib.pyplot as plt\n",
    "from tensorflow.keras.datasets import cifar10\n",
    "from tensorflow.keras.utils import to_categorical\n",
    "from tensorflow.keras.models import Sequential\n",
    "from keras.layers import Conv2D, MaxPooling2D, Flatten, Dense\n",
    "from sklearn.metrics import confusion_matrix\n",
    "\"\"\"\n",
    "Download dataset\n",
    "\"\"\"\n",
    "# Load CIFAR-10 dataset and split into training data and tests data\n",
    "(x_train, y_train), (x_test, y_test) = cifar10.load_data()"
   ]
  },
  {
   "cell_type": "markdown",
   "id": "30a07719",
   "metadata": {},
   "source": [
    "### Normalize Data / Clean up (Filter Animal classes)"
   ]
  },
  {
   "cell_type": "code",
   "execution_count": null,
   "id": "e9e8a3c9",
   "metadata": {},
   "outputs": [],
   "source": [
    "# Animal classes in CIFAR-10: 2 (bird), 3 (cat), 4 (deer), 5 (dog), 6 (frog), 7 (horse)\n",
    "animal_classes = [2, 3, 4, 5, 6, 7]\n",
    "input_shape = (32, 32, 3)\n",
    "\n",
    "# Creating a boolean mask to filter only animal classes\n",
    "train_mask = np.isin(y_train, animal_classes)\n",
    "test_mask  = np.isin(y_test, animal_classes)\n",
    "\n",
    "x_train_animals = x_train[train_mask.flatten()]\n",
    "y_train_animals = y_train[train_mask.flatten()]\n",
    "x_test_animals  = x_test[test_mask.flatten()]\n",
    "y_test_animals  = y_test[test_mask.flatten()]\n",
    "\n",
    "# Relabel classes\n",
    "label_map = {2: 0, 3: 1, 4: 2, 5: 3, 6: 4, 7: 5}\n",
    "y_train_animals = np.vectorize(label_map.get)(y_train_animals)\n",
    "y_test_animals  = np.vectorize(label_map.get)(y_test_animals)\n",
    "\n",
    "# Normalize Data\n",
    "x_train_animals = x_train_animals.astype(\"float32\") / 255.0\n",
    "x_test_animals  = x_test_animals.astype(\"float32\") / 255.0\n",
    "\n",
    "# Verify if shapes correspond to expectations\n",
    "print(\"x_train_animals shape:\", x_train_animals.shape)\n",
    "print(\"y_train_animals shape:\", y_train_animals.shape)\n",
    "print(\"x_test_animals shape:\", x_test_animals.shape)\n",
    "print(\"y_test_animals shape:\", y_test_animals.shape)"
   ]
  },
  {
   "cell_type": "markdown",
   "id": "ae406ec2",
   "metadata": {},
   "source": [
    "### Build Model And Train It"
   ]
  },
  {
   "cell_type": "code",
   "execution_count": null,
   "id": "d75c1182",
   "metadata": {},
   "outputs": [],
   "source": [
    "from keras.backend import clear_session\n",
    "clear_session()"
   ]
  },
  {
   "cell_type": "code",
   "execution_count": null,
   "id": "921376e6",
   "metadata": {},
   "outputs": [],
   "source": [
    "# init model\n",
    "vgg_model = Sequential()\n",
    "\n",
    "# add Convolutional-Layer \n",
    "vgg_model.add(Conv2D(64, (3, 3), activation='relu', padding='same', input_shape=input_shape))\n",
    "vgg_model.add(Conv2D(64, (3, 3), activation='relu', padding='same'))\n",
    "\n",
    "# add MaxPooling-Layer\n",
    "vgg_model.add(MaxPooling2D((2, 2), padding='same'))\n",
    "\n",
    "\n",
    "# add 2 more Convolutional-Layer \n",
    "vgg_model.add(Conv2D(128, (3, 3), activation='relu', padding='same'))\n",
    "vgg_model.add(Conv2D(128, (3, 3), activation='relu', padding='same'))\n",
    "\n",
    "# add MaxPooling-Layer\n",
    "vgg_model.add(MaxPooling2D((2, 2), padding='same'))\n",
    "\n",
    "# Flatten output\n",
    "vgg_model.add(Flatten())\n",
    "\n",
    "# add Dense-Layer with 128 units\n",
    "vgg_model.add(Dense(128, activation='relu'))\n",
    "\n",
    "# add classification layer (10 classes)\n",
    "vgg_model.add(Dense(10, activation='softmax'))\n",
    "\n",
    "# model summary\n",
    "vgg_model.summary()"
   ]
  },
  {
   "cell_type": "code",
   "execution_count": null,
   "id": "b6a1a6e4",
   "metadata": {},
   "outputs": [],
   "source": [
    "# train settings\n",
    "batch_size = 512\n",
    "epochs = 50\n",
    "\n",
    "# compile the model\n",
    "vgg_model.compile(loss='categorical_crossentropy', optimizer='sgd', metrics=['accuracy'])\n",
    "\n",
    "# train model\n",
    "history_m3 = vgg_model.fit(x_train_animals, y_train_animals, \n",
    "                    batch_size=batch_size,\n",
    "                    epochs=epochs,\n",
    "                    validation_data=(x_train_animals, y_test_animals))\n",
    "\n",
    "\n",
    "# predict output for test data\n",
    "predictions = vgg_model.predict(x_train_animals)\n",
    "\n",
    "print(predictions.shape)\n",
    "predictions = np.argmax(predictions, axis=1)\n",
    "\n",
    "# print confusion matrix\n",
    "gt = np.argmax(y_test_animals, axis=1)\n",
    "confusion_matrix(gt, predictions)"
   ]
  }
 ],
 "metadata": {
  "kernelspec": {
   "display_name": "Python 3",
   "language": "python",
   "name": "python3"
  },
  "language_info": {
   "codemirror_mode": {
    "name": "ipython",
    "version": 3
   },
   "file_extension": ".py",
   "mimetype": "text/x-python",
   "name": "python",
   "nbconvert_exporter": "python",
   "pygments_lexer": "ipython3",
   "version": "3.10.6"
  }
 },
 "nbformat": 4,
 "nbformat_minor": 5
}
