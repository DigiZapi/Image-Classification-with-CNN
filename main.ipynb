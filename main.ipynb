{
 "cells": [
  {
   "cell_type": "markdown",
   "id": "a80e7f6e",
   "metadata": {},
   "source": [
    "Read data"
   ]
  },
  {
   "cell_type": "code",
   "execution_count": null,
   "id": "137fa9cf",
   "metadata": {},
   "outputs": [],
   "source": [
    "#import nvidia.cudnn\n",
    "import numpy as np\n",
    "import matplotlib.pyplot as plt\n",
    "from tensorflow.keras.datasets import cifar10\n",
    "from tensorflow.keras.utils import to_categorical\n",
    "\n",
    "# Load CIFAR-10 dataset\n",
    "(x_train, y_train), (x_test, y_test) = cifar10.load_data()"
   ]
  },
  {
   "cell_type": "code",
   "execution_count": null,
   "id": "a9e3cdd8",
   "metadata": {},
   "outputs": [],
   "source": [
    "print(\"Shape x_train:\")\n",
    "print(x_train.shape)\n",
    "print()\n",
    "print(\"Number of dimensions:\")\n",
    "print(x_train.ndim)\n",
    "print()\n",
    "print(\"Datatypes:\")\n",
    "print(x_train.dtype)\n",
    "print()\n",
    "print(\"Shape x_test:\")\n",
    "print(x_test.shape)\n",
    "\n",
    "\n",
    "## Visualisize images\n",
    "# read call lables\n",
    "class_names = np.unique(y_train)\n",
    "\n",
    "# Set up the figure for a 10x10 plot\n",
    "fig, axes = plt.subplots(10, 10, figsize=(15, 15))\n",
    "\n",
    "for i in range(10):\n",
    "    # Get indices for images of class i\n",
    "    indices = np.where(y_train == i)[0]\n",
    "    # Randomly select 10 indices from the class\n",
    "    random_indices = np.random.choice(indices, size=10, replace=False)\n",
    "    \n",
    "    for j, idx in enumerate(random_indices):\n",
    "        # Plot the image in the appropriate subplot\n",
    "        axes[i, j].imshow(x_train[idx])\n",
    "        axes[i, j].axis('off')  # Hide axis ticks\n",
    "        if j == 0:\n",
    "            axes[i, j].set_ylabel(class_names[i], fontsize=12)  # Label the class\n",
    "\n",
    "plt.subplots_adjust(wspace=0.1, hspace=0.3)\n",
    "plt.show()\n",
    "\n",
    "# converts the data type of the x_train array to float32\n",
    "x_train = x_train.astype(\"float32\") / 255\n",
    "x_test = x_test.astype(\"float32\") / 255\n",
    "\n",
    "print('After reshaping:')\n",
    "\n",
    "x_train = np.expand_dims(x_train, -1)\n",
    "x_test = np.expand_dims(x_test, -1)\n",
    "\n",
    "print(x_train.shape)\n",
    "print(x_train.ndim)\n",
    "print(x_train.dtype)\n",
    "print(x_test.shape)\n",
    "\n",
    "# converts target to categorical data\n",
    "y_train = to_categorical(y_train, num_classes=10)\n",
    "y_test = to_categorical(y_test, num_classes=10)\n",
    "\n",
    "print(y_train.shape)\n",
    "print(y_test.shape)"
   ]
  }
 ],
 "metadata": {
  "kernelspec": {
   "display_name": "Python 3",
   "language": "python",
   "name": "python3"
  },
  "language_info": {
   "name": "python",
   "version": "3.10.12"
  }
 },
 "nbformat": 4,
 "nbformat_minor": 5
}
