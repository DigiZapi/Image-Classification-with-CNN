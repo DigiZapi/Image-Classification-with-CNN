{
 "cells": [
  {
   "cell_type": "markdown",
   "id": "8f269ad4",
   "metadata": {},
   "source": [
    "# Image Classification with CNN\n",
    "The idea of this model is to class the animals into their own species based in a few features  "
   ]
  },
  {
   "cell_type": "markdown",
   "id": "5f7d26c8",
   "metadata": {},
   "source": [
    "### Load Dataset and Import First Libraries"
   ]
  },
  {
   "cell_type": "code",
   "execution_count": null,
   "id": "c9fbfc24",
   "metadata": {},
   "outputs": [],
   "source": [
    "#import nvidia.cudnn\n",
    "import numpy as np\n",
    "from data_organizer import organize_data\n",
    "from plot_data import plot_raw_data\n",
    "from model_1 import model_1\n",
    "from tensorflow.keras.datasets import cifar10\n",
    "\n",
    "\n",
    "\"\"\"\n",
    "Download dataset\n",
    "\"\"\"\n",
    "# Load CIFAR-10 dataset and split into training data and tests data\n",
    "(x_train, y_train), (x_test, y_test) = cifar10.load_data()"
   ]
  },
  {
   "cell_type": "markdown",
   "id": "30a07719",
   "metadata": {},
   "source": [
    "### Normalize Data / Clean up (Filter Animal classes)"
   ]
  },
  {
   "cell_type": "code",
   "execution_count": null,
   "id": "e9e8a3c9",
   "metadata": {},
   "outputs": [],
   "source": [
    "# Animal classes in CIFAR-10: 2 (bird), 3 (cat), 4 (deer), 5 (dog), 6 (frog), 7 (horse)\n",
    "animal_classes = [2, 3, 4, 5, 6, 7]\n",
    "input_shape = (32, 32, 3)\n",
    "\n",
    "x_train_animals, y_train_animals, x_test_animals, y_test_animals = organize_data(x_train, y_train, x_test, y_test, animal_classes)\n",
    "\n",
    "## Visualisize images\n",
    "# read call lables\n",
    "class_names = np.unique(y_train_animals)\n",
    "plot_raw_data(class_names, x_train_animals, y_train_animals)\n"
   ]
  },
  {
   "cell_type": "markdown",
   "id": "ae406ec2",
   "metadata": {},
   "source": [
    "### Build Model And Train It"
   ]
  },
  {
   "cell_type": "code",
   "execution_count": null,
   "id": "d75c1182",
   "metadata": {},
   "outputs": [],
   "source": [
    "from keras.backend import clear_session\n",
    "clear_session()"
   ]
  },
  {
   "cell_type": "code",
   "execution_count": null,
   "id": "b6a1a6e4",
   "metadata": {},
   "outputs": [],
   "source": [
    "model_1(x_train_animals, y_train_animals, x_test_animals, y_test_animals, input_shape)"
   ]
  }
 ],
 "metadata": {
  "kernelspec": {
   "display_name": "Python 3",
   "language": "python",
   "name": "python3"
  },
  "language_info": {
   "codemirror_mode": {
    "name": "ipython",
    "version": 3
   },
   "file_extension": ".py",
   "mimetype": "text/x-python",
   "name": "python",
   "nbconvert_exporter": "python",
   "pygments_lexer": "ipython3",
   "version": "3.10.6"
  }
 },
 "nbformat": 4,
 "nbformat_minor": 5
}
