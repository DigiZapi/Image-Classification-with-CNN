{
 "cells": [
  {
   "cell_type": "markdown",
   "id": "8f269ad4",
   "metadata": {},
   "source": [
    "# Image Classification with CNN\n",
    "The idea of this model is to class the animals into their own species based in a few features  "
   ]
  },
  {
   "cell_type": "markdown",
   "id": "5f7d26c8",
   "metadata": {},
   "source": [
    "### Load Dataset and Import First Libraries"
   ]
  },
  {
   "cell_type": "code",
   "execution_count": null,
   "id": "c9fbfc24",
   "metadata": {},
   "outputs": [],
   "source": [
    "#import nvidia.cudnn\n",
    "%pip install seaborn\n",
    "import numpy as np\n",
    "from data_organizer import organize_data\n",
    "from get_DataSet import getData\n",
    "from plot_data import plot_raw_data\n",
    "from model_1 import model_1\n",
    "from model_v2 import model_v2_build\n",
    "from model_sofia import model_sofia\n",
    "from model_sofia_augmented import model_sofia_augmented\n",
    "from model_ahmad import build_model\n",
    "from model_ahmad_f1 import build_model_f1\n",
    "from model_resnet import model_resnet\n",
    "from tensorflow.keras.datasets import cifar10\n",
    "from tensorflow.keras import mixed_precision\n",
    "import torch\n",
    "import tensorflow as tf\n",
    "import gc\n",
    "from numba import cuda  # optional if you have Numba installed\n",
    "\n",
    "\n",
    "\"\"\"\n",
    "Download dataset\n",
    "\"\"\"\n",
    "# Load CIFAR-10 dataset and split into training data and tests data\n",
    "(x_train, y_train), (x_test, y_test) = cifar10.load_data()"
   ]
  },
  {
   "cell_type": "markdown",
   "id": "30a07719",
   "metadata": {},
   "source": [
    "### Normalize Data / Clean up (Filter Animal classes)"
   ]
  },
  {
   "cell_type": "code",
   "execution_count": null,
   "id": "9e193b2e",
   "metadata": {},
   "outputs": [],
   "source": [
    "# --- GPU safety setup ---\n",
    "gpus = tf.config.list_physical_devices('GPU')\n",
    "if gpus:\n",
    "    for gpu in gpus:\n",
    "        tf.config.experimental.set_memory_growth(gpu, True)\n",
    "\n",
    "# --- Mixed precision ---\n",
    "mixed_precision.set_global_policy('mixed_float16')\n",
    "\n",
    "def free_gpu_memory():\n",
    "    tf.keras.backend.clear_session()\n",
    "    torch.cuda.empty_cache()\n",
    "    gc.collect()\n",
    "\n",
    "\n",
    "\n",
    "gpus = tf.config.list_physical_devices('GPU')\n",
    "if gpus:\n",
    "    try:\n",
    "        for gpu in gpus:\n",
    "            tf.config.experimental.set_memory_growth(gpu, True)\n",
    "    except RuntimeError as e:\n",
    "        print(e)\n",
    "\n",
    "'''\n",
    "tf.keras.backend.clear_session()\n",
    "gc.collect()\n",
    "try:\n",
    "    cuda.select_device(0)\n",
    "    cuda.close()\n",
    "except:\n",
    "    pass\n",
    "'''"
   ]
  },
  {
   "cell_type": "code",
   "execution_count": null,
   "id": "e9e8a3c9",
   "metadata": {},
   "outputs": [],
   "source": [
    "# Animal classes in CIFAR-10: 2 (bird), 3 (cat), 4 (deer), 5 (dog), 6 (frog), 7 (horse)\n",
    "animal_classes = [2, 3, 4, 5, 6, 7]\n",
    "input_shape = (32, 32, 3)\n",
    "\n",
    "x_train_animals, y_train_animals, x_test_animals, y_test_animals, x_train_plot, y_train_plot = organize_data(x_train, y_train, x_test, y_test, animal_classes)\n",
    "\n",
    "# data for model_v2\n",
    "free_gpu_memory()\n",
    "train_dataset, test_dataset = getData() \n",
    "\n",
    "## Visualisize images\n",
    "# read call lables\n",
    "class_names = np.unique(y_train_plot)\n",
    "plot_raw_data(class_names, x_train_plot, y_train_plot, 5, 10)\n",
    "\n"
   ]
  },
  {
   "cell_type": "markdown",
   "id": "ae406ec2",
   "metadata": {},
   "source": [
    "### Build Model And Train It"
   ]
  },
  {
   "cell_type": "code",
   "execution_count": null,
   "id": "d75c1182",
   "metadata": {},
   "outputs": [],
   "source": [
    "from keras.backend import clear_session\n",
    "clear_session()"
   ]
  },
  {
   "cell_type": "code",
   "execution_count": null,
   "id": "b6a1a6e4",
   "metadata": {},
   "outputs": [],
   "source": [
    "## models Georg\n",
    "#model_1(x_train_animals, y_train_animals, x_test_animals, y_test_animals, input_shape)\n",
    "#model_resnet(x_train_animals, y_train_animals, x_test_animals, y_test_animals)\n",
    "model_v2_build(train_dataset, test_dataset)\n",
    "\n",
    "\n",
    "## models Sofia\n",
    "#model_sofia(x_train_animals, y_train_animals, x_test_animals, y_test_animals, input_shape)\n",
    "#model_sofia_augmented(x_train, y_train, x_test, y_test, input_shape)\n",
    "\n",
    "\n",
    "#build_model()\n",
    "#build_model_f1()"
   ]
  },
  {
   "cell_type": "code",
   "execution_count": null,
   "id": "819e655a",
   "metadata": {},
   "outputs": [],
   "source": []
  }
 ],
 "metadata": {
  "kernelspec": {
   "display_name": "Python 3",
   "language": "python",
   "name": "python3"
  },
  "language_info": {
   "codemirror_mode": {
    "name": "ipython",
    "version": 3
   },
   "file_extension": ".py",
   "mimetype": "text/x-python",
   "name": "python",
   "nbconvert_exporter": "python",
   "pygments_lexer": "ipython3",
   "version": "3.10.12"
  }
 },
 "nbformat": 4,
 "nbformat_minor": 5
}
